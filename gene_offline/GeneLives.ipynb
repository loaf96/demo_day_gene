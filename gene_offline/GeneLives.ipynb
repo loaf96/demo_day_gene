{
 "cells": [
  {
   "cell_type": "code",
   "execution_count": null,
   "metadata": {},
   "outputs": [],
   "source": [
    "# import necessary modules \n",
    "\n",
    "import tensorflow as tf\n",
    "import json\n",
    "import numpy as np\n",
    "from tensorflow import keras as tfk\n",
    "import os\n",
    "from pymongo import MongoClient"
   ]
  },
  {
   "cell_type": "code",
   "execution_count": null,
   "metadata": {},
   "outputs": [],
   "source": [
    "# import all of necessary databases that will be used to learn off of\n",
    "\n",
    "client = MongoClient('localhost', 27017)\n",
    "db = client['']\n",
    "genes_pod = db['']\n",
    "gene = db['']\n",
    "client.close()\n",
    "\n",
    "# originally done with MongoDB shown above; used .json file for flask app"
   ]
  },
  {
   "cell_type": "code",
   "execution_count": null,
   "metadata": {},
   "outputs": [],
   "source": [
    "# puts all song lyrics into one list by like of song in ilk_sng\n",
    "# then puts all of the songs into a single string with '\\n' seperating the \n",
    "# lines to ensure that similar structure is kept\n",
    "\n",
    "ilk_sng = []\n",
    "for x in list(genes_pod.find({})):\n",
    "    ilk_sng += x['lyrics']\n",
    "ilk_sng.remove('')\n",
    "sng_gwd = ' \\n '.join(ilk_sng).lower().split(' ')\n",
    "sng_gud = [x.replace('(', '').replace(')', '').replace('\"', '').replace('\"', '').replace(',', '') for x in sng_gwd]\n",
    "sng_gud = sng_gud"
   ]
  },
  {
   "cell_type": "code",
   "execution_count": null,
   "metadata": {},
   "outputs": [],
   "source": [
    "# output number of unique words followed by totaL\n",
    "\n",
    "vocab = sorted(set(sng_gud))\n",
    "print('{} unique \\n{} total'.format(len(vocab), len(sng_gud)))"
   ]
  },
  {
   "cell_type": "code",
   "execution_count": null,
   "metadata": {},
   "outputs": [],
   "source": [
    "# create an integer value for each of the words; create a numpy arrray of all of the words as type string in a serperate\n",
    "# variable; create a numpy array of all of the numerical representations of the words\n",
    "\n",
    "wrd_num = {u:i for i, u in enumerate(vocab)}\n",
    "num_wrd = np.array(vocab)\n",
    "sng_int = np.array([wrd_num[c] for c in sng_gud])"
   ]
  },
  {
   "cell_type": "code",
   "execution_count": null,
   "metadata": {},
   "outputs": [],
   "source": [
    "# create the length of the sequence that will be used to learn and make a prediction off of (what it will use as an input \n",
    "# later to make predictions off of); output the expected epoch length which can be used to calulate the number of steps by\n",
    "# dividing the output by the number of batches that will be inputed at a later point in this code; create a dataset with \n",
    "# tensorflow\n",
    "\n",
    "seq_length = 55\n",
    "wrd_dataset = tf.data.Dataset.from_tensor_slices(sng_int)"
   ]
  },
  {
   "cell_type": "code",
   "execution_count": null,
   "metadata": {},
   "outputs": [],
   "source": [
    "# use the dataset previously created to be broken up into batches with the size of your desired sequence length \n",
    "# plus one because we are going to use the extra word to learn what is likely to follow the previous words\n",
    "\n",
    "seqs = wrd_dataset.batch(seq_length+1, drop_remainder=True)\n",
    "\n",
    "# can uncomment below if one wishes to output and be able to see when running code how long of a sequence \n",
    "# will be used to learn off of visually\n",
    "\n",
    "# for i in seqs.take(1):\n",
    "#     print((' '.join(num_wrd[i.numpy()])))"
   ]
  },
  {
   "cell_type": "code",
   "execution_count": null,
   "metadata": {},
   "outputs": [],
   "source": [
    "# creates chunks from the dataset and forms a new dataset with a two chunks: one as the input and one of \n",
    "# the target\n",
    "\n",
    "def chnky_mnky(chawnk):\n",
    "    inpt = chawnk[:-1]\n",
    "    target = chawnk[1:]\n",
    "    return inpt, target\n",
    "\n",
    "dataset = seqs.map(chnky_mnky)"
   ]
  },
  {
   "cell_type": "code",
   "execution_count": null,
   "metadata": {},
   "outputs": [],
   "source": [
    "# create the batch_size (number of seqeunces to look at per step), buff_size(the amount of data to load into memory per \n",
    "# step), and then shuffle the newly created dataset. \n",
    "\n",
    "batch_size = 3\n",
    "buff_size = 840\n",
    "dataset = dataset.shuffle(buff_size).batch(batch_size, drop_remainder=True)\n",
    "ex_per_ep = (len(sng_gud)//(seq_length+1))//batch_size\n",
    "dataset"
   ]
  },
  {
   "cell_type": "code",
   "execution_count": null,
   "metadata": {},
   "outputs": [],
   "source": [
    "# create the neural network\n",
    "# this will be altered depending on the dataset being used\n",
    "\n",
    "# found that song lyrics require a higher embedding dimension than\n",
    "# novels, yet lower sequence length\n",
    "\n",
    "vocab_size = len(vocab)\n",
    "embed_dim = 128\n",
    "rnn_units = 512\n",
    "\n",
    "def build_model(vocab_size, embed_dim, rnn_units, batch_size):\n",
    "    model = tf.keras.Sequential([\\\n",
    "                                 tf.keras.layers.Embedding(vocab_size, embed_dim,\\\n",
    "                                                           batch_input_shape=[batch_size, None]),\\\n",
    "                                 tf.keras.layers.LSTM(rnn_units,\\\n",
    "                                                     return_sequences=True,\\\n",
    "                                                     stateful=True,\\\n",
    "                                                     recurrent_initializer='glorot_uniform'),\\\n",
    "                                tf.keras.layers.Dense(vocab_size, activation='softmax'),\\\n",
    "                                ])\n",
    "    return model"
   ]
  },
  {
   "cell_type": "code",
   "execution_count": null,
   "metadata": {},
   "outputs": [],
   "source": [
    "# define and build the model\n",
    "\n",
    "model = build_model(\n",
    "  vocab_size = len(vocab),\n",
    "  embed_dim=embed_dim,\n",
    "  rnn_units=rnn_units,\n",
    "  batch_size=batch_size)"
   ]
  },
  {
   "cell_type": "code",
   "execution_count": null,
   "metadata": {},
   "outputs": [],
   "source": [
    "# define the loss function as the loss function that will be used\n",
    "\n",
    "def winnawinna(nochkn, nodinna):\n",
    "    return tf.keras.losses.sparse_categorical_crossentropy(nochkn, nodinna, from_logits=False, axis=-1)"
   ]
  },
  {
   "cell_type": "code",
   "execution_count": null,
   "metadata": {},
   "outputs": [],
   "source": [
    "# compile the model so it is ready to be trained on the data\n",
    "\n",
    "model.compile(optimizer='adam', loss=winnawinna)"
   ]
  },
  {
   "cell_type": "code",
   "execution_count": null,
   "metadata": {},
   "outputs": [],
   "source": [
    "# create the file location for where the training data should be stored and referenced when necessary\n",
    "\n",
    "# checkpoints saved\n",
    "checkpoint_dir = ''\n",
    "# files' names\n",
    "checkpoint_prefix = os.path.join(checkpoint_dir, \"ckpt_{epoch}\")\n",
    "\n",
    "checkpoint_callback=tf.keras.callbacks.ModelCheckpoint(\n",
    "    filepath=checkpoint_prefix,\n",
    "    save_weights_only=True)"
   ]
  },
  {
   "cell_type": "code",
   "execution_count": null,
   "metadata": {},
   "outputs": [],
   "source": [
    "# eps is the number of epochs of times one wants to train the model on the dataset\n",
    "\n",
    "eps = 5\n",
    "history = model.fit(dataset, epochs=eps, callbacks=[checkpoint_callback])"
   ]
  },
  {
   "cell_type": "code",
   "execution_count": null,
   "metadata": {},
   "outputs": [],
   "source": [
    "# rebuild the model with a batch size of one because we only want one output\n",
    "# then load the weights in from the most recent checkpoint referencing the location\n",
    "# that our files were saved in\n",
    "\n",
    "model = build_model(vocab_size, embed_dim, rnn_units, batch_size=1)\n",
    "\n",
    "model.load_weights(tf.train.latest_checkpoint(checkpoint_dir))\n",
    "\n",
    "model.build(tf.TensorShape([1, None]))"
   ]
  },
  {
   "cell_type": "code",
   "execution_count": null,
   "metadata": {},
   "outputs": [],
   "source": [
    "# create the function that will be used to generate the text\n",
    "# set the length one wants as the output in bars and then set the \n",
    "# level of certinty by adjusting the shf value (affects the threshhold\n",
    "# and what will be allowed to pass as a value accepted from the model) \n",
    "\n",
    "shf = 1.0\n",
    "bars = 55\n",
    "\n",
    "def bouttaend_urwhole_carreer(model, start_string, bars=None):\n",
    "\n",
    "    num_generate = bars\n",
    "    start_str = start_string.split(' ')\n",
    "    input_eval = [wrd_num[s] for s in start_str]\n",
    "    input_eval = tf.expand_dims(input_eval, 0)\n",
    "    text_generated = []\n",
    "    temp = shf\n",
    "    model.reset_states()\n",
    "    for i in range(num_generate):\n",
    "        predictions = model(input_eval)\n",
    "        predictions = tf.squeeze(predictions, 0)\n",
    "        predictions = predictions / temp\n",
    "        predicted_id = tf.random.categorical(predictions, num_samples=1)[-1,0].numpy()\n",
    "        input_eval = tf.expand_dims([predicted_id], 0)\n",
    "        text_generated.append(num_wrd[predicted_id])\n",
    "    return (start_string + ' '.join(text_generated))"
   ]
  },
  {
   "cell_type": "code",
   "execution_count": null,
   "metadata": {},
   "outputs": [],
   "source": [
    "# prints the string with the option of inputing a seed in the start_string *kwargs, using\n",
    "# the function that was made above\n",
    "\n",
    "lmno = bouttaend_urwhole_carreer(model, start_string=''' ''')\n",
    "print(lmno+' \\n \\n ')"
   ]
  }
 ],
 "metadata": {
  "kernelspec": {
   "display_name": "Python 3",
   "language": "python",
   "name": "python3"
  },
  "language_info": {
   "codemirror_mode": {
    "name": "ipython",
    "version": 3
   },
   "file_extension": ".py",
   "mimetype": "text/x-python",
   "name": "python",
   "nbconvert_exporter": "python",
   "pygments_lexer": "ipython3",
   "version": "3.7.3"
  }
 },
 "nbformat": 4,
 "nbformat_minor": 4
}
