{
 "cells": [
  {
   "cell_type": "code",
   "execution_count": null,
   "metadata": {},
   "outputs": [],
   "source": [
    "import requests\n",
    "import json\n",
    "from pymongo import MongoClient\n",
    "import lyricsgenius\n"
   ]
  },
  {
   "cell_type": "code",
   "execution_count": null,
   "metadata": {},
   "outputs": [],
   "source": [
    "# insert client access token (found after making account with lyricsGenius)\n",
    "\n",
    "cl_at = ''\n",
    "genius = lyricsgenius.Genius(cl_at)\n",
    "\n",
    "# removes the headers and introductions to songs that include them\n",
    "# can turn to false if information is desired\n",
    "\n",
    "genius.remove_section_headers = True\n",
    "\n",
    "# terms in song names that one wishes to exlude\n",
    "# I choose these because I found that these songs were not helpful for \n",
    "# my project's goal\n",
    "\n",
    "genius.excluded_terms = ['(Demo)','(Remix)']\n",
    "\n",
    "# whether or not to show the output of songs that it is(n't) including\n",
    "# in the stored results\n",
    "\n",
    "genius.verbose = True\n",
    "\n",
    "# the artist that one wishes to search for and the number of songs that one \n",
    "# wishes to obtain from the query\n",
    "\n",
    "artist = genius.search_artist('artist here', max_songs=10)\n",
    "\n",
    "# stores the songs of the artist in a list\n",
    "\n",
    "lmno = list(artist.songs)"
   ]
  },
  {
   "cell_type": "code",
   "execution_count": null,
   "metadata": {},
   "outputs": [],
   "source": [
    "# connects to MongoDB to store information for songs for later query\n",
    "# can choose alternate method if one desires\n",
    "\n",
    "client = MongoClient('localhost', 27017)\n",
    "genes_pod = db['']\n",
    "\n",
    "client.close()"
   ]
  },
  {
   "cell_type": "code",
   "execution_count": null,
   "metadata": {},
   "outputs": [],
   "source": [
    "# use for splitting up the songs lyrics by line, and returns a list of \n",
    "# the lines with each line as a string type\n",
    "def ilketrtls(ur_turtl):\n",
    "    splt_dat = ur_turtl.split('\\n')\n",
    "    strip_dat = [lne.replace('\\n', '') for lne in splt_dat]\n",
    "    return strip_dat\n",
    "\n",
    "# used to id and easily have recalled where the song's stanzas occur and where repeating \n",
    "# verses occur. returns a list of index numbers where there are not blank lines (blank lines)\n",
    "\n",
    "def id_pls(dgtgs, emptyinsd=True):\n",
    "    stndn = []\n",
    "    if emptyinsd == True:\n",
    "        for x in dgtgs[0::]:\n",
    "            if len(x) > 1:\n",
    "                stndn.append(dgtgs.index(x))\n",
    "                next\n",
    "            else:\n",
    "                next\n",
    "    elif emptyinsd == False:\n",
    "        for x in dgtgs:\n",
    "            if len(x) > 1:\n",
    "                stndn.append(dgtgs.index(x))\n",
    "                next\n",
    "            else:\n",
    "                next\n",
    "    return stndn"
   ]
  },
  {
   "cell_type": "code",
   "execution_count": null,
   "metadata": {},
   "outputs": [],
   "source": [
    "# used to insert lyrics into MongoDB for ease of analysis and for less use of\n",
    "# computing power for constant calls\n",
    "\n",
    "s_num = range(len(lmno))\n",
    "\n",
    "for x in s_num:\n",
    "    strt_fyra = artist.songs[x].lyrics\n",
    "    kpn_tabs = ilketrtls(strt_fyra)\n",
    "    gt_datbargin = id_pls(kpn_tabs)\n",
    "    bars_ogld = {'title':lmno[x].title, 'artist':lmno[x].artist, 'lyrics': kpn_tabs, 'stanzas':gt_datbargin}\n",
    "    print('{} by {}'.format(bars_ogld['title'], bars_ogld['artist']))\n",
    "    genes_pod.insert_one(bars_ogld)\n",
    "    \n",
    "len(list(genes_pod.find({}))), len(list(genes_pod.find({'artist':lmno[0].artist})))"
   ]
  }
 ],
 "metadata": {
  "kernelspec": {
   "display_name": "Python 3",
   "language": "python",
   "name": "python3"
  },
  "language_info": {
   "codemirror_mode": {
    "name": "ipython",
    "version": 3
   },
   "file_extension": ".py",
   "mimetype": "text/x-python",
   "name": "python",
   "nbconvert_exporter": "python",
   "pygments_lexer": "ipython3",
   "version": "3.7.3"
  }
 },
 "nbformat": 4,
 "nbformat_minor": 4
}
